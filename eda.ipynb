{
 "cells": [
  {
   "cell_type": "code",
   "execution_count": null,
   "id": "eb147100",
   "metadata": {},
   "outputs": [
    {
     "name": "stdout",
     "output_type": "stream",
     "text": [
      "라벨링 완료: 0개\n"
     ]
    }
   ],
   "source": [
    "import pandas as pd, re, os\n",
    "from pathlib import Path\n",
    "\n",
    "# 1) train.csv → level/grade 파싱\n",
    "df = pd.read_csv('./train.csv')\n",
    "long = df.melt('study_id', var_name='key', value_name='grade')\n",
    "\n",
    "# level 추출\n",
    "long[['junk', 'level']] = long['key'].str.extract(r'(.*)_(l\\d_l\\d|l5_s1)$', expand=True)\n",
    "long['level'] = long['level'].str.upper().str.replace('L', 'L').str.replace('_', '_')\n",
    "\n",
    "# 이진 라벨\n",
    "long['is_abnormal'] = long['grade'].isin(['Moderate', 'Severe']).astype(int)\n",
    "\n",
    "# 레벨별 OR\n",
    "disc = long.groupby(['study_id','level'], as_index=False)['is_abnormal'].max()\n",
    "disc['filename'] = disc['study_id'].astype(str)+'_'+disc['level']+'.jpg'\n",
    "\n",
    "# 2) RSNA crop 목록\n",
    "crop_files = [p.name for p in Path('crops_rsna').glob('*.jpg')]\n",
    "crop_df = pd.DataFrame({'filename': crop_files})\n",
    "\n",
    "# 3) 병합 → NaN = 0\n",
    "labels = (crop_df\n",
    "          .merge(disc[['filename','is_abnormal']], on='filename', how='left')\n",
    "          .fillna({'is_abnormal':0}).astype({'is_abnormal':int}))\n",
    "\n",
    "labels.to_csv('train_labels.csv', index=False)\n",
    "print(f'라벨링 완료: {len(labels)}개')"
   ]
  }
 ],
 "metadata": {
  "kernelspec": {
   "display_name": "dlvenv",
   "language": "python",
   "name": "python3"
  },
  "language_info": {
   "codemirror_mode": {
    "name": "ipython",
    "version": 3
   },
   "file_extension": ".py",
   "mimetype": "text/x-python",
   "name": "python",
   "nbconvert_exporter": "python",
   "pygments_lexer": "ipython3",
   "version": "3.10.6"
  }
 },
 "nbformat": 4,
 "nbformat_minor": 5
}
